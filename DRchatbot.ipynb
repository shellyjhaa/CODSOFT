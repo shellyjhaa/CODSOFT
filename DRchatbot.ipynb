{
 "cells": [
  {
   "cell_type": "code",
   "execution_count": 7,
   "id": "0372fbae-351f-4109-bb29-667cc7080688",
   "metadata": {},
   "outputs": [],
   "source": [
    "# Defining the knowledge base\n",
    "knowledge_base = {\n",
    "    \"asthma\": [\"shortness_of_breath\", \"wheezing\"],\n",
    "    \"flu\": [\"fever\", \"cough\", \"fatigue\"],\n",
    "    \"cold\": [\"sneezing\", \"sore_throat\"],\n",
    "}"
   ]
  },
  {
   "cell_type": "code",
   "execution_count": 9,
   "id": "f353760c-9dbb-419c-9385-ff9d6b88a1e8",
   "metadata": {},
   "outputs": [],
   "source": [
    "#Defining the diagnosis function\n",
    "def diagnose_condition(symptoms):\n",
    "    possible_conditions = []\n",
    "\n",
    "    for condition, symptom_list in knowledge_base.items():\n",
    "        if all(symptom in symptoms for symptom in symptom_list):\n",
    "            possible_conditions.append(condition)\n",
    "\n",
    "    if not possible_conditions:\n",
    "        print(\"No matching conditions found.\")\n",
    "    else:\n",
    "        print(\"Possible conditions:\", \", \".join(possible_conditions))\n"
   ]
  },
  {
   "cell_type": "code",
   "execution_count": 10,
   "id": "f600fff0-3e80-4f5b-b9b7-d8d5a6ab292f",
   "metadata": {},
   "outputs": [],
   "source": [
    "#Defining the main function\n",
    "def main():\n",
    "    user_input = input(\"Enter the symptoms (comma-separated): \")\n",
    "    user_symptoms = [symptom.strip() for symptom in user_input.split(\",\")]\n",
    "    diagnose_condition(user_symptoms)"
   ]
  },
  {
   "cell_type": "code",
   "execution_count": 12,
   "id": "8c93a156-56d7-43bf-9f2c-e9363c53467f",
   "metadata": {},
   "outputs": [
    {
     "name": "stdin",
     "output_type": "stream",
     "text": [
      "Enter the symptoms (comma-separated):  fever, cough, fatigue\n"
     ]
    },
    {
     "name": "stdout",
     "output_type": "stream",
     "text": [
      "Possible conditions: flu\n"
     ]
    }
   ],
   "source": [
    "#Excecuting the main function\n",
    "main()"
   ]
  },
  {
   "cell_type": "code",
   "execution_count": null,
   "id": "df4cf83e-4ec2-44d8-af6f-c737e1f61a13",
   "metadata": {},
   "outputs": [],
   "source": []
  }
 ],
 "metadata": {
  "kernelspec": {
   "display_name": "Python 3 (ipykernel)",
   "language": "python",
   "name": "python3"
  },
  "language_info": {
   "codemirror_mode": {
    "name": "ipython",
    "version": 3
   },
   "file_extension": ".py",
   "mimetype": "text/x-python",
   "name": "python",
   "nbconvert_exporter": "python",
   "pygments_lexer": "ipython3",
   "version": "3.11.5"
  }
 },
 "nbformat": 4,
 "nbformat_minor": 5
}
